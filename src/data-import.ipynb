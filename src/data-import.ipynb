{
 "cells": [
  {
   "cell_type": "code",
   "execution_count": 1,
   "metadata": {},
   "outputs": [],
   "source": [
    "from utils.dataset import MagnaTagATune\n",
    "import os"
   ]
  },
  {
   "cell_type": "code",
   "execution_count": 23,
   "metadata": {},
   "outputs": [
    {
     "name": "stdout",
     "output_type": "stream",
     "text": [
      "Loading data from ../data/MagnaTagATune/annotations/train_labels.pkl...\n"
     ]
    }
   ],
   "source": [
    "DATA_PATH = os.path.join(\"..\", \"data\", \"MagnaTagATune\", \"samples\")\n",
    "TRAIN_LABELS_PATH = \"../data/MagnaTagATune/annotations/train_labels.pkl\"\n",
    "VAL_LABELS_PATH = \"../data/MagnaTagATune/annotations/val_labels.pkl\"\n",
    "\n",
    "data = MagnaTagATune(TRAIN_LABELS_PATH, DATA_PATH)"
   ]
  },
  {
   "cell_type": "code",
   "execution_count": 24,
   "metadata": {},
   "outputs": [
    {
     "name": "stdout",
     "output_type": "stream",
     "text": [
      "Number of files: 16963\n",
      "File name of file 0:\n",
      "train/0/american_bach_soloists-j_s__bach__cantatas_volume_v-01-gleichwie_der_regen_und_schnee_vom_himmel_fallt_bwv_18_i_sinfonia-117-146.npy\n",
      "Samples of shape torch.Size([10, 1, 34950]):\n",
      "tensor([[[    0.,     0.,     0.,  ...,  -221.,  -498.,  -191.]],\n",
      "\n",
      "        [[  209.,   366.,   494.,  ...,  -235.,  -283.,  -138.]],\n",
      "\n",
      "        [[  -96.,  -388.,  -536.,  ...,   698.,   515.,   624.]],\n",
      "\n",
      "        ...,\n",
      "\n",
      "        [[-1510., -1214.,  -812.,  ...,  -416.,  -259.,   -37.]],\n",
      "\n",
      "        [[  239.,   384.,   467.,  ..., -1524., -1423., -1371.]],\n",
      "\n",
      "        [[-1308.,  -960.,  -854.,  ...,     0.,     0.,     0.]]])\n",
      "Labels of shape torch.Size([50])\n",
      "tensor([0., 0., 0., 0., 0., 0., 0., 1., 0., 0., 0., 0., 0., 0., 0., 0., 0., 0.,\n",
      "        0., 0., 0., 0., 0., 0., 0., 0., 0., 0., 0., 0., 0., 0., 0., 0., 0., 0.,\n",
      "        0., 0., 0., 0., 0., 0., 0., 0., 0., 0., 0., 0., 1., 0.])\n"
     ]
    }
   ],
   "source": [
    "print(f'Number of files: {len(data)}')\n",
    "print(\"File name of file 0:\")\n",
    "print(data[0][0])\n",
    "print(f'Samples of shape {data[0][1].shape}:')\n",
    "print(data[0][1])\n",
    "print(f'Labels of shape {data[0][2].shape}')\n",
    "print(data[0][2])"
   ]
  }
 ],
 "metadata": {
  "kernelspec": {
   "display_name": "Python 3",
   "language": "python",
   "name": "python3"
  },
  "language_info": {
   "codemirror_mode": {
    "name": "ipython",
    "version": 3
   },
   "file_extension": ".py",
   "mimetype": "text/x-python",
   "name": "python",
   "nbconvert_exporter": "python",
   "pygments_lexer": "ipython3",
   "version": "3.10.12"
  }
 },
 "nbformat": 4,
 "nbformat_minor": 2
}
