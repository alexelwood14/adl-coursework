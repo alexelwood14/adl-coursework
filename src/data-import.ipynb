{
 "cells": [
  {
   "cell_type": "code",
   "execution_count": 3,
   "metadata": {},
   "outputs": [],
   "source": [
    "from utils.dataset import MagnaTagATune\n",
    "import os\n"
   ]
  },
  {
   "cell_type": "code",
   "execution_count": 13,
   "metadata": {},
   "outputs": [
    {
     "name": "stdout",
     "output_type": "stream",
     "text": [
      "Loading data from ../data/MagnaTagATune/annotations/train_labels.pkl...\n"
     ]
    },
    {
     "data": {
      "text/plain": [
       "16963"
      ]
     },
     "execution_count": 13,
     "metadata": {},
     "output_type": "execute_result"
    }
   ],
   "source": [
    "DATA_PATH = os.path.join(\"..\", \"data\", \"MagnaTagATune\", \"samples\", \"train\", \"0\")\n",
    "TRAIN_LABELS_PATH = \"../data/MagnaTagATune/annotations/train_labels.pkl\"\n",
    "VAL_LABELS_PATH = \"../data/MagnaTagATune/annotations/train_labels.pkl\"\n",
    "\n",
    "data = MagnaTagATune(TRAIN_LABELS_PATH, DATA_PATH)\n",
    "len(data)"
   ]
  }
 ],
 "metadata": {
  "kernelspec": {
   "display_name": "Python 3",
   "language": "python",
   "name": "python3"
  },
  "language_info": {
   "codemirror_mode": {
    "name": "ipython",
    "version": 3
   },
   "file_extension": ".py",
   "mimetype": "text/x-python",
   "name": "python",
   "nbconvert_exporter": "python",
   "pygments_lexer": "ipython3",
   "version": "3.10.12"
  }
 },
 "nbformat": 4,
 "nbformat_minor": 2
}
