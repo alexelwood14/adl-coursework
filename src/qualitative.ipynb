{
 "cells": [
  {
   "cell_type": "markdown",
   "metadata": {},
   "source": [
    "# Qualitative Evaluation of Model\n",
    "\n",
    "**Goal**: using a trained model, evaluate AUC scores for classes individually\n",
    "\n",
    "1. Load model\n",
    "2. Load dataset\n",
    "3. Split dataset based on label\n",
    "4. Evaluate the AUC score of the model on each label\n",
    "5. Generate plot AUC scores.\n",
    "6. Provide two examples where the model struggled and one where it succeeded "
   ]
  },
  {
   "cell_type": "code",
   "execution_count": 108,
   "metadata": {},
   "outputs": [],
   "source": [
    "import torch\n",
    "from utils.dataset import MagnaTagATune\n",
    "from model import Model\n",
    "import os\n",
    "import pandas as pd\n",
    "import numpy as np\n",
    "from sklearn.metrics import roc_auc_score\n",
    "import matplotlib.pyplot as plt"
   ]
  },
  {
   "cell_type": "code",
   "execution_count": null,
   "metadata": {},
   "outputs": [],
   "source": [
    "# Move data to appropriate device\n",
    "if torch.cuda.is_available():\n",
    "    DEVICE = torch.device(\"cuda\")\n",
    "else:\n",
    "    DEVICE = torch.device(\"cpu\")\n",
    "print(f'Running model on device {DEVICE}')\n",
    "\n",
    "MODEL_PATH = \"../models/CNN_bs=10_lr=0.005_mom=0.99_model.pth\"\n",
    "model = Model(256, 256)\n",
    "model.load_state_dict(torch.load(MODEL_PATH, map_location=DEVICE))\n",
    "model.eval()"
   ]
  },
  {
   "cell_type": "code",
   "execution_count": 61,
   "metadata": {},
   "outputs": [
    {
     "name": "stdout",
     "output_type": "stream",
     "text": [
      "Loading data from ../data/MagnaTagATune/annotations/new_test_labels.pkl...\n"
     ]
    }
   ],
   "source": [
    "# Load the train, validation and test datasets and create\n",
    "dataset_root = os.path.join(\"..\", \"data\", \"MagnaTagATune\")\n",
    "\n",
    "test_labels_path = os.path.join(dataset_root, \"annotations\", \"new_test_labels.pkl\")\n",
    "samples_path = os.path.join(dataset_root, \"samples\")\n",
    "test_dataset = MagnaTagATune(test_labels_path, samples_path)\n",
    "\n",
    "test_loader = torch.utils.data.DataLoader(\n",
    "    test_dataset,\n",
    "    shuffle=False,\n",
    "    pin_memory=True,\n",
    ")"
   ]
  },
  {
   "cell_type": "code",
   "execution_count": 63,
   "metadata": {},
   "outputs": [],
   "source": [
    "all_preds = []\n",
    "\n",
    "# No need to track gradients for validation, we're not optimizing.\n",
    "with torch.no_grad():\n",
    "    for _, batch, _ in test_loader:\n",
    "        batch = batch.to(DEVICE)\n",
    "        logits = model(batch)\n",
    "        preds = logits.cpu().numpy()\n",
    "        all_preds.extend(list(preds))\n",
    "\n",
    "all_preds = torch.tensor(np.array(all_preds)).to(DEVICE)"
   ]
  },
  {
   "cell_type": "code",
   "execution_count": 102,
   "metadata": {},
   "outputs": [
    {
     "data": {
      "text/plain": [
       "array([0.84953514, 0.91036305, 0.77032354, 0.91468036, 0.803957  ,\n",
       "       0.89781035, 0.95267642, 0.8707994 , 0.86748684, 0.94479059,\n",
       "       0.84802373, 0.73395959, 0.80385193, 0.80989813, 0.7424017 ,\n",
       "       0.80661588, 0.78118851, 0.73431463, 0.80549744, 0.96467573,\n",
       "       0.87771755, 0.91599461, 0.97937073, 0.74956399, 0.86438631,\n",
       "       0.89480892, 0.77786144, 0.80808902, 0.80488671, 0.6556832 ,\n",
       "       0.63093767, 0.63171004, 0.92301181, 0.86188752, 0.85578636,\n",
       "       0.8877551 , 0.88859149, 0.97463353, 0.74572261, 0.76727227,\n",
       "       0.76852272, 0.78373935, 0.82780697, 0.73337372, 0.75385635,\n",
       "       0.76027247, 0.92219849, 0.86704323, 0.74233863, 0.74011865])"
      ]
     },
     "execution_count": 102,
     "metadata": {},
     "output_type": "execute_result"
    }
   ],
   "source": [
    "gts = pd.read_pickle(test_labels_path)\n",
    "\n",
    "labels = []\n",
    "for i in range(len(gts.iloc[:]['label'])):\n",
    "    # labels.append(gts[i][2].numpy())                             # A 50D Ground Truth binary vector\n",
    "    labels.append(np.array(gts.iloc[i]['label']).astype(float))    # A 50D Ground Truth binary vector\n",
    "    # model_outs.append(preds[i].cpu().numpy()) # A 50D vector that assigns probability to each class\n",
    "labels = np.array(labels).astype(float)\n",
    "\n",
    "tag_auc_scores = []\n",
    "\n",
    "\n",
    "tag_auc_scores = roc_auc_score(y_true=labels, y_score=all_preds, multi_class='ovr', average=None)\n",
    "tag_auc_scores"
   ]
  },
  {
   "cell_type": "code",
   "execution_count": 111,
   "metadata": {},
   "outputs": [
    {
     "data": {
      "text/plain": [
       "<BarContainer object of 50 artists>"
      ]
     },
     "execution_count": 111,
     "metadata": {},
     "output_type": "execute_result"
    },
    {
     "data": {
      "image/png": "[encoded data removed]",
      "text/plain": [
       "<Figure size 640x480 with 1 Axes>"
      ]
     },
     "metadata": {},
     "output_type": "display_data"
    }
   ],
   "source": [
    "plt.bar(range(50), tag_auc_scores)"
   ]
  }
 ],
 "metadata": {
  "kernelspec": {
   "display_name": "Python 3",
   "language": "python",
   "name": "python3"
  },
  "language_info": {
   "codemirror_mode": {
    "name": "ipython",
    "version": 3
   },
   "file_extension": ".py",
   "mimetype": "text/x-python",
   "name": "python",
   "nbconvert_exporter": "python",
   "pygments_lexer": "ipython3",
   "version": "3.10.12"
  }
 },
 "nbformat": 4,
 "nbformat_minor": 2
}
